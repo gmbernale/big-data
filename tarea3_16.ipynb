{
  "nbformat": 4,
  "nbformat_minor": 0,
  "metadata": {
    "colab": {
      "provenance": [],
      "toc_visible": true
    },
    "kernelspec": {
      "name": "python3",
      "display_name": "Python 3"
    },
    "language_info": {
      "name": "python"
    }
  },
  "cells": [
    {
      "cell_type": "code",
      "execution_count": 7,
      "metadata": {
        "id": "leLZoHhF3z9E"
      },
      "outputs": [],
      "source": [
        "from pyspark.sql import SparkSession\n",
        "from pyspark.sql.functions import col, count, isnan, when, mean\n",
        "\n",
        "\n",
        "spark = SparkSession.builder \\\n",
        "    .appName(\"Tarea3_16\") \\\n",
        "    .getOrCreate()\n"
      ]
    },
    {
      "cell_type": "code",
      "source": [
        "# 2. Cargar datos desde el CSV\n",
        "df = spark.read.csv(\"student_depression_dataset.csv\", header=True, inferSchema=True)"
      ],
      "metadata": {
        "id": "ISXvFdyG4ZRk"
      },
      "execution_count": 2,
      "outputs": []
    },
    {
      "cell_type": "code",
      "source": [
        "# 3. Mostrar primeras filas y esquema\n",
        "df.show(5)\n",
        "df.printSchema()\n"
      ],
      "metadata": {
        "colab": {
          "base_uri": "https://localhost:8080/"
        },
        "id": "gNn885SH4iIZ",
        "outputId": "16323cd1-b1cd-4c0e-e511-ed18cf67e91d"
      },
      "execution_count": 3,
      "outputs": [
        {
          "output_type": "stream",
          "name": "stdout",
          "text": [
            "+---+------+----+-------------+----------+-----------------+-------------+----+------------------+----------------+-------------------+--------------+-------+-------------------------------------+----------------+----------------+--------------------------------+----------+\n",
            "| id|Gender| Age|         City|Profession|Academic Pressure|Work Pressure|CGPA|Study Satisfaction|Job Satisfaction|     Sleep Duration|Dietary Habits| Degree|Have you ever had suicidal thoughts ?|Work/Study Hours|Financial Stress|Family History of Mental Illness|Depression|\n",
            "+---+------+----+-------------+----------+-----------------+-------------+----+------------------+----------------+-------------------+--------------+-------+-------------------------------------+----------------+----------------+--------------------------------+----------+\n",
            "|  2|  Male|33.0|Visakhapatnam|   Student|              5.0|          0.0|8.97|               2.0|             0.0|        '5-6 hours'|       Healthy|B.Pharm|                                  Yes|             3.0|             1.0|                              No|         1|\n",
            "|  8|Female|24.0|    Bangalore|   Student|              2.0|          0.0| 5.9|               5.0|             0.0|        '5-6 hours'|      Moderate|    BSc|                                   No|             3.0|             2.0|                             Yes|         0|\n",
            "| 26|  Male|31.0|     Srinagar|   Student|              3.0|          0.0|7.03|               5.0|             0.0|'Less than 5 hours'|       Healthy|     BA|                                   No|             9.0|             1.0|                             Yes|         0|\n",
            "| 30|Female|28.0|     Varanasi|   Student|              3.0|          0.0|5.59|               2.0|             0.0|        '7-8 hours'|      Moderate|    BCA|                                  Yes|             4.0|             5.0|                             Yes|         1|\n",
            "| 32|Female|25.0|       Jaipur|   Student|              4.0|          0.0|8.13|               3.0|             0.0|        '5-6 hours'|      Moderate| M.Tech|                                  Yes|             1.0|             1.0|                              No|         0|\n",
            "+---+------+----+-------------+----------+-----------------+-------------+----+------------------+----------------+-------------------+--------------+-------+-------------------------------------+----------------+----------------+--------------------------------+----------+\n",
            "only showing top 5 rows\n",
            "\n",
            "root\n",
            " |-- id: integer (nullable = true)\n",
            " |-- Gender: string (nullable = true)\n",
            " |-- Age: double (nullable = true)\n",
            " |-- City: string (nullable = true)\n",
            " |-- Profession: string (nullable = true)\n",
            " |-- Academic Pressure: double (nullable = true)\n",
            " |-- Work Pressure: double (nullable = true)\n",
            " |-- CGPA: double (nullable = true)\n",
            " |-- Study Satisfaction: double (nullable = true)\n",
            " |-- Job Satisfaction: double (nullable = true)\n",
            " |-- Sleep Duration: string (nullable = true)\n",
            " |-- Dietary Habits: string (nullable = true)\n",
            " |-- Degree: string (nullable = true)\n",
            " |-- Have you ever had suicidal thoughts ?: string (nullable = true)\n",
            " |-- Work/Study Hours: double (nullable = true)\n",
            " |-- Financial Stress: string (nullable = true)\n",
            " |-- Family History of Mental Illness: string (nullable = true)\n",
            " |-- Depression: integer (nullable = true)\n",
            "\n"
          ]
        }
      ]
    },
    {
      "cell_type": "code",
      "source": [
        "# 4. Limpieza de datos\n",
        "# Quitar duplicados\n",
        "df = df.dropDuplicates()"
      ],
      "metadata": {
        "id": "AvsKkBTC4lGv"
      },
      "execution_count": 4,
      "outputs": []
    },
    {
      "cell_type": "code",
      "source": [
        "# Quitar filas con valores nulos o vacíos\n",
        "df = df.dropna(how=\"any\")"
      ],
      "metadata": {
        "id": "laWnEU_T4rys"
      },
      "execution_count": 5,
      "outputs": []
    },
    {
      "cell_type": "code",
      "source": [
        "# Contar valores nulos por columna (análisis previo)\n",
        "null_counts = df.select([count(when(col(c).isNull() | isnan(c), c)).alias(c) for c in df.columns])\n",
        "null_counts.show()"
      ],
      "metadata": {
        "colab": {
          "base_uri": "https://localhost:8080/"
        },
        "id": "ndz785Wi4wr2",
        "outputId": "17354c1d-217b-403a-fbaf-21ea8b528625"
      },
      "execution_count": 8,
      "outputs": [
        {
          "output_type": "stream",
          "name": "stdout",
          "text": [
            "+---+------+---+----+----------+-----------------+-------------+----+------------------+----------------+--------------+--------------+------+-------------------------------------+----------------+----------------+--------------------------------+----------+\n",
            "| id|Gender|Age|City|Profession|Academic Pressure|Work Pressure|CGPA|Study Satisfaction|Job Satisfaction|Sleep Duration|Dietary Habits|Degree|Have you ever had suicidal thoughts ?|Work/Study Hours|Financial Stress|Family History of Mental Illness|Depression|\n",
            "+---+------+---+----+----------+-----------------+-------------+----+------------------+----------------+--------------+--------------+------+-------------------------------------+----------------+----------------+--------------------------------+----------+\n",
            "|  0|     0|  0|   0|         0|                0|            0|   0|                 0|               0|             0|             0|     0|                                    0|               0|               0|                               0|         0|\n",
            "+---+------+---+----+----------+-----------------+-------------+----+------------------+----------------+--------------+--------------+------+-------------------------------------+----------------+----------------+--------------------------------+----------+\n",
            "\n"
          ]
        }
      ]
    },
    {
      "cell_type": "code",
      "source": [
        "# 5. Transformaciones necesarias (renombrar columnas, convertir tipos si aplica)\n",
        "# Ejemplo: cambiar nombres de columnas si tienen espacios\n",
        "for c in df.columns:\n",
        "    df = df.withColumnRenamed(c, c.strip().replace(\" \", \"_\"))"
      ],
      "metadata": {
        "id": "OUl28r685ahV"
      },
      "execution_count": 9,
      "outputs": []
    },
    {
      "cell_type": "code",
      "source": [
        "# 6. Análisis exploratorio (EDA)\n",
        "print(\"=== Descripción estadística ===\")\n",
        "df.describe().show()"
      ],
      "metadata": {
        "colab": {
          "base_uri": "https://localhost:8080/"
        },
        "id": "AgXnW_x65err",
        "outputId": "8af4a458-2825-4d16-d303-60ca4ab2a3ce"
      },
      "execution_count": 10,
      "outputs": [
        {
          "output_type": "stream",
          "name": "stdout",
          "text": [
            "=== Descripción estadística ===\n",
            "+-------+------------------+------+-----------------+-------------+----------------+------------------+--------------------+------------------+------------------+--------------------+--------------+--------------+----------+-------------------------------------+-----------------+------------------+--------------------------------+-------------------+\n",
            "|summary|                id|Gender|              Age|         City|      Profession| Academic_Pressure|       Work_Pressure|              CGPA|Study_Satisfaction|    Job_Satisfaction|Sleep_Duration|Dietary_Habits|    Degree|Have_you_ever_had_suicidal_thoughts_?| Work/Study_Hours|  Financial_Stress|Family_History_of_Mental_Illness|         Depression|\n",
            "+-------+------------------+------+-----------------+-------------+----------------+------------------+--------------------+------------------+------------------+--------------------+--------------+--------------+----------+-------------------------------------+-----------------+------------------+--------------------------------+-------------------+\n",
            "|  count|             27901| 27901|            27901|        27901|           27901|             27901|               27901|             27901|             27901|               27901|         27901|         27901|     27901|                                27901|            27901|             27901|                           27901|              27901|\n",
            "|   mean|  70442.1494211677|  NULL|25.82230027597577|          3.0|            NULL|3.1412135765743163|4.300921113938568...| 7.656104171893657| 2.943837138453819|6.809791763736067E-4|          NULL|          NULL|      NULL|                                 NULL|7.156983620658758|3.1398666571080365|                            NULL| 0.5854987276441704|\n",
            "| stddev|40641.175216397976|  NULL| 4.90568744892432|         NULL|            NULL| 1.381464841327594| 0.04399203206392466|1.4707073462076148| 1.361147955266985|0.044394396218606885|          NULL|          NULL|      NULL|                                 NULL|3.707642072778763|1.4373466968345754|                            NULL|0.49264456369310844|\n",
            "|    min|                 2|Female|             18.0| 'Less Delhi'|'Civil Engineer'|               0.0|                 0.0|               0.0|               0.0|                 0.0|   '5-6 hours'|       Healthy|'Class 12'|                                   No|              0.0|               1.0|                              No|                  0|\n",
            "|    max|            140699|  Male|             59.0|Visakhapatnam|         Teacher|               5.0|                 5.0|              10.0|               5.0|                 4.0|        Others|     Unhealthy|       PhD|                                  Yes|             12.0|                 ?|                             Yes|                  1|\n",
            "+-------+------------------+------+-----------------+-------------+----------------+------------------+--------------------+------------------+------------------+--------------------+--------------+--------------+----------+-------------------------------------+-----------------+------------------+--------------------------------+-------------------+\n",
            "\n"
          ]
        }
      ]
    },
    {
      "cell_type": "code",
      "source": [
        "# Distribución por columna clave\n",
        "if 'Gender' in df.columns or 'gender' in df.columns:\n",
        "    df.groupBy(\"Gender\").count().show()"
      ],
      "metadata": {
        "colab": {
          "base_uri": "https://localhost:8080/"
        },
        "id": "uPncH2T25kw3",
        "outputId": "a8a984b4-5b20-496d-ec01-cc00f3a2b82a"
      },
      "execution_count": 11,
      "outputs": [
        {
          "output_type": "stream",
          "name": "stdout",
          "text": [
            "+------+-----+\n",
            "|Gender|count|\n",
            "+------+-----+\n",
            "|Female|12354|\n",
            "|  Male|15547|\n",
            "+------+-----+\n",
            "\n"
          ]
        }
      ]
    },
    {
      "cell_type": "code",
      "source": [
        "# Ejemplo: promedio de edad o síntomas\n",
        "numeric_cols = [c for (c, dtype) in df.dtypes if dtype in ('int', 'double')]\n",
        "for colname in numeric_cols:\n",
        "    df.select(mean(col(colname)).alias(f\"Average_{colname}\")).show()"
      ],
      "metadata": {
        "colab": {
          "base_uri": "https://localhost:8080/"
        },
        "id": "x6cJcLs_5zfS",
        "outputId": "f0957357-21b5-42de-c6ab-d3f55c2b6b26"
      },
      "execution_count": 12,
      "outputs": [
        {
          "output_type": "stream",
          "name": "stdout",
          "text": [
            "+----------------+\n",
            "|      Average_id|\n",
            "+----------------+\n",
            "|70442.1494211677|\n",
            "+----------------+\n",
            "\n",
            "+-----------------+\n",
            "|      Average_Age|\n",
            "+-----------------+\n",
            "|25.82230027597577|\n",
            "+-----------------+\n",
            "\n",
            "+-------------------------+\n",
            "|Average_Academic_Pressure|\n",
            "+-------------------------+\n",
            "|       3.1412135765743163|\n",
            "+-------------------------+\n",
            "\n",
            "+---------------------+\n",
            "|Average_Work_Pressure|\n",
            "+---------------------+\n",
            "| 4.300921113938568...|\n",
            "+---------------------+\n",
            "\n",
            "+-----------------+\n",
            "|     Average_CGPA|\n",
            "+-----------------+\n",
            "|7.656104171893657|\n",
            "+-----------------+\n",
            "\n",
            "+--------------------------+\n",
            "|Average_Study_Satisfaction|\n",
            "+--------------------------+\n",
            "|         2.943837138453819|\n",
            "+--------------------------+\n",
            "\n",
            "+------------------------+\n",
            "|Average_Job_Satisfaction|\n",
            "+------------------------+\n",
            "|    6.809791763736067E-4|\n",
            "+------------------------+\n",
            "\n",
            "+------------------------+\n",
            "|Average_Work/Study_Hours|\n",
            "+------------------------+\n",
            "|       7.156983620658758|\n",
            "+------------------------+\n",
            "\n",
            "+------------------+\n",
            "|Average_Depression|\n",
            "+------------------+\n",
            "|0.5854987276441704|\n",
            "+------------------+\n",
            "\n"
          ]
        }
      ]
    },
    {
      "cell_type": "code",
      "source": [
        "# 7. Guardar resultados procesados\n",
        "df.write.mode(\"overwrite\").csv(\"processed_student_depression_data\", header=True)"
      ],
      "metadata": {
        "id": "ojR9LdKt54uV"
      },
      "execution_count": 13,
      "outputs": []
    },
    {
      "cell_type": "code",
      "source": [
        "# Finalizar sesión Spark\n",
        "spark.stop()"
      ],
      "metadata": {
        "id": "iZDaRP8U59Ui"
      },
      "execution_count": 14,
      "outputs": []
    }
  ]
}